{
 "cells": [
  {
   "cell_type": "markdown",
   "metadata": {},
   "source": [
    "1\\. Write a function that converts numbers among the bin, dec, and hex representations (bin<->dec<->hex)"
   ]
  },
  {
   "cell_type": "code",
   "execution_count": 1,
   "metadata": {},
   "outputs": [
    {
     "name": "stdout",
     "output_type": "stream",
     "text": [
      "Given decimal number: 5 \n",
      "Binary representation and Hexadecimal representation: ('0b101', '0x5')\n",
      "Given binary number: 0b101 \n",
      "Decimal representation and Hexadecimal representation: (5, '0x5')\n",
      "Given hexadecimal number: 0x5 \n",
      "Binary representation and Decimal representation: ('0b101', 5)\n"
     ]
    }
   ],
   "source": [
    "def convert(n,r):\n",
    "    if(r == 10): #base of dec is 10\n",
    "        b=bin(n)\n",
    "        h=hex(n)\n",
    "        return b,h\n",
    "    if(r == 2):  #base of bin is 2\n",
    "        d=int(n)\n",
    "        h=hex(n)\n",
    "        return d,h\n",
    "    if(r == 16):  #base of hex is 16\n",
    "        b=bin(n)\n",
    "        d=int(n)\n",
    "        return b,d\n",
    "n=5\n",
    "print('Given decimal number:', n,'\\nBinary representation and Hexadecimal representation:', convert(n,10))\n",
    "n2=bin(n)\n",
    "print('Given binary number:', n2,'\\nDecimal representation and Hexadecimal representation:', convert(n,2))\n",
    "n3=hex(n)\n",
    "print('Given hexadecimal number:', n3,'\\nBinary representation and Decimal representation:', convert(n,16))\n"
   ]
  },
  {
   "cell_type": "markdown",
   "metadata": {},
   "source": [
    "2\\. Write a function that converts a 32 bit word into a single precision floating point (i.e. interprets the various bits as sign, mantissa and exponent) and check its validity."
   ]
  },
  {
   "cell_type": "code",
   "execution_count": 2,
   "metadata": {},
   "outputs": [
    {
     "name": "stdout",
     "output_type": "stream",
     "text": [
      "The single precision floating point: 1.316553672920962e-36\n"
     ]
    }
   ],
   "source": [
    "def convert_tofloat(n):\n",
    "    bias=127\n",
    "    sign=n[0]\n",
    "    exp=n[1:9]\n",
    "    mantissa=n[9:]\n",
    "    \n",
    "    if sign == '1': #to get value of sign, s\n",
    "        sign = -1\n",
    "    else: sign = 1\n",
    "        \n",
    "    expo = sum([2**(7-i) for i, b in enumerate(exp) if b == '1']) #exponent, e\n",
    "    m = sum([2**(-i-1) for i, b in enumerate(mantissa) if b == '1']) #mantissa, m\n",
    "    return sign*(1+m)*(2**(expo-bias)) #return float value\n",
    "\n",
    "n='00000011111000000000000000000000'\n",
    "print('The single precision floating point:', convert_tofloat(n))"
   ]
  },
  {
   "cell_type": "markdown",
   "metadata": {},
   "source": [
    "3\\. Write a program to determine the underflow and overflow limits (within a factor of 2) for python on your computer. \n",
    "\n",
    "**Tip**: define two variables initialized to 1 and halve/double them for a sufficient amount of times to exceed the under/over-flow limits  "
   ]
  },
  {
   "cell_type": "code",
   "execution_count": null,
   "metadata": {},
   "outputs": [],
   "source": [
    "under=over=1\n",
    "count=0\n",
    "\n",
    "while under != 0: # underflow limit\n",
    "    under/=2\n",
    "    count+=1\n",
    "a = 2**(count-1)\n",
    "print('Underflow limit:', a)\n",
    "\n",
    "count=0\n",
    "while over != float('inf'): #overflow limit\n",
    "    over*=2\n",
    "    count+=1\n",
    "b = 2**(count-1)\n",
    "print('Overflow limit:', b)"
   ]
  },
  {
   "cell_type": "markdown",
   "metadata": {},
   "source": [
    "4\\. Write a program to determine the machine precision\n",
    "\n",
    "**Tip**: define a new variable by adding an increasingly smaller value (in the same way as the previous problem) and check when the addition starts to have no effect on the number"
   ]
  },
  {
   "cell_type": "code",
   "execution_count": 3,
   "metadata": {},
   "outputs": [
    {
     "name": "stdout",
     "output_type": "stream",
     "text": [
      "The machine precision is 1.1102230246251565e-16\n"
     ]
    }
   ],
   "source": [
    "num=1\n",
    "inc=1\n",
    "temp=0\n",
    "\n",
    "while num!=temp:\n",
    "    temp=num\n",
    "    inc/=2\n",
    "    num+=inc #add small value to the number\n",
    "\n",
    "p=inc*2 \n",
    "print('The machine precision is', p)"
   ]
  },
  {
   "cell_type": "markdown",
   "metadata": {},
   "source": [
    "5\\. Write a function that takes in input three parameters $a$, $b$ and $c$ and prints out the two solutions to the quadratic equation $ax^2+bx+c=0$ using the standard formula:\n",
    "$$\n",
    "x=\\frac{-b\\pm\\sqrt{b^2-4ac}}{2a}\n",
    "$$\n",
    "\n",
    "(a) use the program to compute the solution for $a=0.001$, $b=1000$ and $c=0.001$\n",
    "\n",
    "(b) re-express the standard solution formula by multiplying the numerator and the denominator by $-b\\mp\\sqrt{b^2-4ac}$ and again find the solution for $a=0.001$, $b=1000$ and $c=0.001$. How does it compare with what has been previously obtained, and why?\n",
    "\n",
    "(c) write a function that computes the roots of a quadratic equation accurately in all cases"
   ]
  },
  {
   "cell_type": "code",
   "execution_count": 10,
   "metadata": {},
   "outputs": [
    {
     "name": "stdout",
     "output_type": "stream",
     "text": [
      "(-9.999894245993346e-07, -999999.999999)\n",
      "(-1.000000000001e-06, -1000010.5755125057)\n",
      "Real and different roots \n",
      "x1: -9.999894245993346e-07\n",
      "x2: -999999.999999\n"
     ]
    }
   ],
   "source": [
    "from math import sqrt\n",
    "\n",
    "#a standard way\n",
    "def quad_eq1(a,b,c):\n",
    "    x1 = (-b + sqrt(b**2 - 4*a*c)) / (2*a)\n",
    "    x2 = (-b - sqrt(b**2 - 4*a*c)) / (2*a)\n",
    "    return (x1, x2)\n",
    "\n",
    "#b multiplying numerator and denominator with −𝑏∓√⎯⎯𝑏2−4𝑎𝑐 \n",
    "def quad_eq2(a,b,c):\n",
    "    d = sqrt(b**2 - 4*a*c)\n",
    "    x1 = 2*c / (-b - d)\n",
    "    x2 = 2*c / (-b + d)\n",
    "    return (x1, x2)\n",
    "\n",
    "#Here quad_eq1 gives more precise value compared to quad_eq1 function\n",
    "\n",
    "#c\n",
    "def quad_eqstable(a,b,c):\n",
    "    d2 = b**2 - 4*a*c\n",
    "    d = sqrt(abs(d2))\n",
    "    \n",
    "    if d2 > 0: \n",
    "        print(\"Real and different roots \") \n",
    "        print(\"x1:\",(-b + d)/(2 * a)) \n",
    "        print(\"x2:\",(-b - d)/(2 * a)) \n",
    "    elif d2 == 0: \n",
    "        print(\"Real and same roots\") \n",
    "        print(\"x1,x2:\",-b / (2 * a)) \n",
    "    else:\n",
    "        print(\"Complex Roots\") \n",
    "        print(\"x1:\",- b / (2 * a), \" + i\", d) \n",
    "        print(\"x2:\",- b / (2 * a), \" - i\", d) \n",
    "\n",
    "a=0.001\n",
    "b=1000\n",
    "c=0.001\n",
    "print(quad_eq1(a,b,c))\n",
    "print(quad_eq2(a,b,c))\n",
    "quad_eqstable(a,b,c)"
   ]
  },
  {
   "cell_type": "markdown",
   "metadata": {},
   "source": [
    "6\\. Write a program that implements the function $f(x)=x(x−1)$\n",
    "\n",
    "(a) Calculate the derivative of the function at the point $x = 1$ using the derivative definition:\n",
    "\n",
    "$$\n",
    "\\frac{{\\rm d}f}{{\\rm d}x} = \\lim_{\\delta\\to0} \\frac{f(x+\\delta)-f(x)}{\\delta}\n",
    "$$\n",
    "\n",
    "with $\\delta = 10^{−2}$. Calculate the true value of the same derivative analytically and compare it with the answer your program gives. The two will not agree perfectly. Why?\n",
    "\n",
    "(b) Repeat the calculation for $\\delta = 10^{−4}, 10^{−6}, 10^{−8}, 10^{−10}, 10^{−12}$ and $10^{−14}$. How does the accuracy scales with $\\delta$?"
   ]
  },
  {
   "cell_type": "code",
   "execution_count": 7,
   "metadata": {},
   "outputs": [
    {
     "name": "stdout",
     "output_type": "stream",
     "text": [
      "The derivative: 1.010000000000001\n",
      "The derivative analytically: 1\n",
      "For the delta vale: 0.0001  derivative is 1.0000999999998899\n",
      "For the delta vale: 1e-06  derivative is 1.0000009999177333\n",
      "For the delta vale: 1e-08  derivative is 1.0000000039225287\n",
      "For the delta vale: 1e-10  derivative is 1.000000082840371\n",
      "For the delta vale: 1e-12  derivative is 1.0000889005833413\n",
      "For the delta vale: 1e-14  derivative is 0.9992007221626509\n"
     ]
    }
   ],
   "source": [
    "def f(x):\n",
    "    return x*(x-1)\n",
    "\n",
    "def derivative(x,delta):\n",
    "    return (f(x + delta) - f(x)) / delta\n",
    "\n",
    "def derivative_analytical(x):\n",
    "    return 2*x - 1\n",
    "\n",
    "print('The derivative:', derivative(1,delta = 10**-2))\n",
    "print('The derivative analytically:', derivative_analytical(1))\n",
    "\n",
    "#Here the derivative has slightly differs from analytical due limited precision of the mathematical computation\n",
    "\n",
    "d_list = [10**-4, 10**-6, 10**-8, 10**-10, 10**-12, 10**-14]\n",
    "\n",
    "for i in d_list:\n",
    "    print('For the delta vale:', i,' derivative is', derivative(1,i))\n",
    "#Here the change in delta effects the accuracy and at delta=10^8, the derivative is closest to analytically value"
   ]
  },
  {
   "cell_type": "markdown",
   "metadata": {},
   "source": [
    "7\\. Consider the integral of the semicircle of radius 1:\n",
    "$$\n",
    "I=\\int_{-1}^{1} \\sqrt(1-x^2) {\\rm d}x\n",
    "$$\n",
    "which is known to be $I=\\frac{\\pi}{2}=1.57079632679...$.\n",
    "\n",
    "Alternatively we can use the Riemann definition of the integral:\n",
    "$$\n",
    "I=\\lim_{N\\to\\infty} \\sum_{k=1}^{N} h y_k \n",
    "$$\n",
    "\n",
    "with $h=2/N$ the width of each of the $N$ slices the domain is divided into and where\n",
    "$y_k$ is the value of the function at the $k-$th slice.\n",
    "\n",
    "(a) Write a program to compute the integral with $N=100$. How does the result compare to the true value?\n",
    "\n",
    "(b) How much can $N$ be increased if the computation needs to be run in less than a second? What is the gain in running it for 1 minute? \n"
   ]
  },
  {
   "cell_type": "code",
   "execution_count": 6,
   "metadata": {},
   "outputs": [
    {
     "name": "stdout",
     "output_type": "stream",
     "text": [
      "The result at N=100 is 1.565154305800824\n",
      "This result differs from its true value\n",
      "Time taken for N=1000000 is  0.39290285110473633 secs\n",
      "1.5707963267892842\n",
      "Time taken for N=1000000 is  40.54207730293274 secs\n",
      "Thus increase in N will make the result close to true value\n"
     ]
    }
   ],
   "source": [
    "from math import sqrt\n",
    "from math import pi\n",
    "import time\n",
    "\n",
    "def f(x):\n",
    "    return sqrt(1 - x**2)\n",
    "\n",
    "def riemann(func,a,b,N):\n",
    "    summ=0\n",
    "    h=(b-a)/N\n",
    "    for i in range(0, N-1):\n",
    "        summ+=func(a+i*h)*h\n",
    "    return summ\n",
    "\n",
    "print('The result at N=100 is', riemann(f,-1,1,100))\n",
    "#Here the result slightly differs from the true value(~1.57079632679...)\n",
    "print('This result differs from its true value')\n",
    "\n",
    "start = time.time()\n",
    "riemann(f,-1,1,1000000)\n",
    "end = time.time()-start\n",
    "print('Time taken for N=1000000 is ',end ,'secs')\n",
    "\n",
    "start=time.time()\n",
    "print(riemann(f,-1,1,100000000))\n",
    "end = time.time()-start\n",
    "print('Time taken for N=1000000 is ',end ,'secs')\n",
    "#Here running it for 1min will improve the result to its true value\n",
    "print('Thus increase in N will make the result close to true value')"
   ]
  },
  {
   "cell_type": "code",
   "execution_count": null,
   "metadata": {},
   "outputs": [],
   "source": []
  }
 ],
 "metadata": {
  "kernelspec": {
   "display_name": "Python 3 (ipykernel)",
   "language": "python",
   "name": "python3"
  },
  "language_info": {
   "codemirror_mode": {
    "name": "ipython",
    "version": 3
   },
   "file_extension": ".py",
   "mimetype": "text/x-python",
   "name": "python",
   "nbconvert_exporter": "python",
   "pygments_lexer": "ipython3",
   "version": "3.10.0"
  }
 },
 "nbformat": 4,
 "nbformat_minor": 2
}
