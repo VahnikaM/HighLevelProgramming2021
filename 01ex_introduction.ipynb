{
 "cells": [
  {
   "cell_type": "markdown",
   "metadata": {},
   "source": [
    "1. The HelloWorld replacement\n",
    "\n",
    "a) Write a program that prints the numbers from 1 to 100. But for multiples of three print \"Hello\" instead of the number and for the multiples of five print \"World\". For numbers which are multiples of both three and five print \"HelloWorld\".\n",
    "\n",
    "b) Put the result in a tuple and substitute \"Hello\" with \"Python\" and \"World\" with \"Works\"."
   ]
  },
  {
   "cell_type": "code",
   "execution_count": 1,
   "metadata": {},
   "outputs": [
    {
     "name": "stdout",
     "output_type": "stream",
     "text": [
      "The answer of 1(a)\n",
      " [1, 2, 'Hello', 4, 'World', 'Hello', 7, 8, 'Hello', 'World', 11, 'Hello', 13, 14, 'HelloWorld', 16, 17, 'Hello', 19, 'World', 'Hello', 22, 23, 'Hello', 'World', 26, 'Hello', 28, 29, 'HelloWorld', 31, 32, 'Hello', 34, 'World', 'Hello', 37, 38, 'Hello', 'World', 41, 'Hello', 43, 44, 'HelloWorld', 46, 47, 'Hello', 49, 'World', 'Hello', 52, 53, 'Hello', 'World', 56, 'Hello', 58, 59, 'HelloWorld', 61, 62, 'Hello', 64, 'World', 'Hello', 67, 68, 'Hello', 'World', 71, 'Hello', 73, 74, 'HelloWorld', 76, 77, 'Hello', 79, 'World', 'Hello', 82, 83, 'Hello', 'World', 86, 'Hello', 88, 89, 'HelloWorld', 91, 92, 'Hello', 94, 'World', 'Hello', 97, 98, 'Hello', 'World']\n",
      "\n",
      "The answer of 1(b)\n",
      " (1, 2, 'Python', 4, 'Works', 'Python', 7, 8, 'Python', 'Works', 11, 'Python', 13, 14, 'PythonWorks', 16, 17, 'Python', 19, 'Works', 'Python', 22, 23, 'Python', 'Works', 26, 'Python', 28, 29, 'PythonWorks', 31, 32, 'Python', 34, 'Works', 'Python', 37, 38, 'Python', 'Works', 41, 'Python', 43, 44, 'PythonWorks', 46, 47, 'Python', 49, 'Works', 'Python', 52, 53, 'Python', 'Works', 56, 'Python', 58, 59, 'PythonWorks', 61, 62, 'Python', 64, 'Works', 'Python', 67, 68, 'Python', 'Works', 71, 'Python', 73, 74, 'PythonWorks', 76, 77, 'Python', 79, 'Works', 'Python', 82, 83, 'Python', 'Works', 86, 'Python', 88, 89, 'PythonWorks', 91, 92, 'Python', 94, 'Works', 'Python', 97, 98, 'Python', 'Works')\n"
     ]
    }
   ],
   "source": [
    "a='HelloWorld'\n",
    "b='Hello'\n",
    "c='World'\n",
    "t=[]\n",
    "for i in range(1,101): #loop to separate numbers from 1 to 100 for multiples of 3,5 and both\n",
    "    if(i%3==0):\n",
    "        if(i%5==0):\n",
    "            t.append(a)\n",
    "        else:\n",
    "            t.append(b)\n",
    "    elif(i%5==0):\n",
    "        t.append(c)\n",
    "    else:\n",
    "        t.append(i)\n",
    "print('The answer of 1(a)\\n', t)\n",
    "l=list(t) #tuple to list\n",
    "\n",
    "for j,k in enumerate(l): #replace hello to python, world to works\n",
    "    if(k=='HelloWorld'):\n",
    "        l[j]='PythonWorks'\n",
    "        \n",
    "    elif(k=='Hello'):\n",
    "        l[j]='Python'\n",
    "        \n",
    "    elif(k=='World'):\n",
    "        l[j]='Works'\n",
    "tu=tuple(l) #list to tuple\n",
    "print('\\nThe answer of 1(b)\\n', tu)"
   ]
  },
  {
   "cell_type": "markdown",
   "metadata": {},
   "source": [
    "2\\. The swap function\n",
    "\n",
    "Write a function that swap the values of two input variables x and y (whatever the type). Try to do that also without a temporary variable"
   ]
  },
  {
   "cell_type": "code",
   "execution_count": 18,
   "metadata": {},
   "outputs": [
    {
     "name": "stdout",
     "output_type": "stream",
     "text": [
      "Before swap 10 20\n",
      "After swap using temporary variable 20 10\n",
      "After swap without temporary variable 20 10\n"
     ]
    }
   ],
   "source": [
    "def swap_temp(x,y):\n",
    "    temp=x\n",
    "    x=y\n",
    "    y=temp\n",
    "    print('After swap using temporary variable',x,y)\n",
    "\n",
    "def swap_without_temp(x,y):\n",
    "    x,y = y,x\n",
    "    print('After swap without temporary variable',x,y)\n",
    "\n",
    "x=10\n",
    "y=20\n",
    "print('Before swap',x,y)\n",
    "swap_temp(x,y)\n",
    "swap_without_temp(x,y)"
   ]
  },
  {
   "cell_type": "markdown",
   "metadata": {},
   "source": [
    "3\\. Computing the distance\n",
    "\n",
    "Write a function that calculates and returns the euclidean distance between two points *u* and *v*, where *u* and *v* are both 2-tuples *(x,y)*. For example, if *u=(3,0)* and *v=(0,4)*, the function should return 5"
   ]
  },
  {
   "cell_type": "code",
   "execution_count": 3,
   "metadata": {},
   "outputs": [
    {
     "name": "stdout",
     "output_type": "stream",
     "text": [
      "Euclidean distance between two points 7.0710678118654755\n"
     ]
    }
   ],
   "source": [
    "import math\n",
    "\n",
    "u=(3,0)\n",
    "v=(4,7)\n",
    "\n",
    "\n",
    "def eug(u,v):\n",
    "    a=math.sqrt((((u[0]-v[0])**2)+((u[1]-v[1])**2)))\n",
    "    return a\n",
    "\n",
    "print('Euclidean distance between two points',eug(u,v))"
   ]
  },
  {
   "cell_type": "markdown",
   "metadata": {},
   "source": [
    "4\\. Counting letters\n",
    "\n",
    "Write a program to calculate the number of times each character occurs in a given string *s*. Ignore differences in capitalization"
   ]
  },
  {
   "cell_type": "code",
   "execution_count": 2,
   "metadata": {},
   "outputs": [],
   "source": [
    "s = \"Write a program that prints the numbers from 1 to 100. \\\n",
    "But for multiples of three print Hello instead of the number and for the multiples of five print World. \\\n",
    "For numbers which are multiples of both three and five print HelloWorld.\""
   ]
  },
  {
   "cell_type": "code",
   "execution_count": 4,
   "metadata": {},
   "outputs": [
    {
     "name": "stdout",
     "output_type": "stream",
     "text": [
      "Character w has occured 4 times\n",
      "Character r has occured 19 times\n",
      "Character i has occured 12 times\n",
      "Character t has occured 19 times\n",
      "Character e has occured 20 times\n",
      "Character   has occured 51 times\n",
      "Character a has occured 7 times\n",
      "Character p has occured 8 times\n",
      "Character o has occured 15 times\n",
      "Character g has occured 1 times\n",
      "Character m has occured 8 times\n",
      "Character h has occured 11 times\n",
      "Character n has occured 10 times\n",
      "Character s has occured 7 times\n",
      "Character u has occured 7 times\n",
      "Character b has occured 5 times\n",
      "Character f has occured 10 times\n",
      "Character 1 has occured 2 times\n",
      "Character 0 has occured 2 times\n",
      "Character . has occured 3 times\n",
      "Character l has occured 12 times\n",
      "Character d has occured 5 times\n",
      "Character v has occured 2 times\n",
      "Character c has occured 1 times\n"
     ]
    }
   ],
   "source": [
    "s = \"Write a program that prints the numbers from 1 to 100. \\\n",
    "     But for multiples of three print Hello instead of the number and for the multiples of five print World. \\\n",
    "     For numbers which are multiples of both three and five print HelloWorld.\"\n",
    "\n",
    "t={}\n",
    "\n",
    "for i in s.lower(): #loop to count no.of times each character is repeated\n",
    "    if i in t:\n",
    "        t[i]+=1\n",
    "    else:\n",
    "        t[i]=1\n",
    "        \n",
    "for j in t:\n",
    "    print('Character',j,'has occured',t[j],'times')"
   ]
  },
  {
   "cell_type": "markdown",
   "metadata": {},
   "source": [
    "5\\. Isolating the unique\n",
    "\n",
    "Write a function that determines and count the unique numbers in the list:"
   ]
  },
  {
   "cell_type": "code",
   "execution_count": 5,
   "metadata": {},
   "outputs": [],
   "source": [
    "l = [36, 45, 58, 3, 74, 96, 64, 45, 31, 10, 24, 19, 33, 86, 99, 18, 63, 70, 85,\n",
    " 85, 63, 47, 56, 42, 70, 84, 88, 55, 20, 54, 8, 56, 51, 79, 81, 57, 37, 91,\n",
    " 1, 84, 84, 36, 66, 9, 89, 50, 42, 91, 50, 95, 90, 98, 39, 16, 82, 31, 92, 41,\n",
    " 45, 30, 66, 70, 34, 85, 94, 5, 3, 36, 72, 91, 84, 34, 87, 75, 53, 51, 20, 89, 51, 20]"
   ]
  },
  {
   "cell_type": "code",
   "execution_count": 5,
   "metadata": {},
   "outputs": [
    {
     "name": "stdout",
     "output_type": "stream",
     "text": [
      "Unique number are [58, 74, 96, 64, 10, 24, 19, 33, 86, 99, 18, 47, 88, 55, 54, 8, 79, 81, 57, 37, 1, 9, 95, 90, 98, 39, 16, 82, 92, 41, 30, 94, 5, 72, 87, 75, 53]\n",
      "Count of unique numbers is 37\n"
     ]
    }
   ],
   "source": [
    "from collections import Counter\n",
    "l = [36, 45, 58, 3, 74, 96, 64, 45, 31, 10, 24, 19, 33, 86, 99, 18, 63, 70, 85,\n",
    " 85, 63, 47, 56, 42, 70, 84, 88, 55, 20, 54, 8, 56, 51, 79, 81, 57, 37, 91,\n",
    " 1, 84, 84, 36, 66, 9, 89, 50, 42, 91, 50, 95, 90, 98, 39, 16, 82, 31, 92, 41,\n",
    " 45, 30, 66, 70, 34, 85, 94, 5, 3, 36, 72, 91, 84, 34, 87, 75, 53, 51, 20, 89, 51, 20]\n",
    "\n",
    "def cou(l):\n",
    "    l2=[]\n",
    "    c=0\n",
    "    count= Counter(l)\n",
    "    for i in l: \n",
    "        if (count[i]==1): #if the number occurred once then add to l2 list\n",
    "            l2.append(i)\n",
    "            c+=1\n",
    "    print('Unique number are',l2)\n",
    "    print('Count of unique numbers is',c)\n",
    "cou(l)"
   ]
  },
  {
   "cell_type": "markdown",
   "metadata": {},
   "source": [
    "Do the same without using user-defined functions, but exploiting only the Python data structures."
   ]
  },
  {
   "cell_type": "code",
   "execution_count": 6,
   "metadata": {},
   "outputs": [
    {
     "name": "stdout",
     "output_type": "stream",
     "text": [
      "Unique numbers are [58, 74, 96, 64, 10, 24, 19, 33, 86, 99, 18, 47, 88, 55, 54, 8, 79, 81, 57, 37, 1, 9, 95, 90, 98, 39, 16, 82, 92, 41, 30, 94, 5, 72, 87, 75, 53]\n",
      "Count of unique numbers is 37\n"
     ]
    }
   ],
   "source": [
    "l = [36, 45, 58, 3, 74, 96, 64, 45, 31, 10, 24, 19, 33, 86, 99, 18, 63, 70, 85,\n",
    " 85, 63, 47, 56, 42, 70, 84, 88, 55, 20, 54, 8, 56, 51, 79, 81, 57, 37, 91,\n",
    " 1, 84, 84, 36, 66, 9, 89, 50, 42, 91, 50, 95, 90, 98, 39, 16, 82, 31, 92, 41,\n",
    " 45, 30, 66, 70, 34, 85, 94, 5, 3, 36, 72, 91, 84, 34, 87, 75, 53, 51, 20, 89, 51, 20]\n",
    "\n",
    "l2=[]\n",
    "c=0\n",
    "\n",
    "for i in l:\n",
    "    count=0\n",
    "    for j in l:\n",
    "        if i==j:\n",
    "            count+=1\n",
    "    if (count==1):\n",
    "        l2.append(i)\n",
    "        c+=1\n",
    "print('Unique numbers are',l2)\n",
    "print('Count of unique numbers is',c)"
   ]
  },
  {
   "cell_type": "markdown",
   "metadata": {},
   "source": [
    "6\\. Combination of functions\n",
    "\n",
    "Write two functions - one that returns the square of a number, and one that returns the cube. Now write a third function that returns the number raised to the 6th power using the two previous functions."
   ]
  },
  {
   "cell_type": "code",
   "execution_count": 7,
   "metadata": {},
   "outputs": [
    {
     "name": "stdout",
     "output_type": "stream",
     "text": [
      "The sixth of 4 is 4096\n"
     ]
    }
   ],
   "source": [
    "n=4\n",
    "\n",
    "def sq(n):\n",
    "    return n**2\n",
    "\n",
    "def cu(n):\n",
    "    return n**3\n",
    "\n",
    "def si(n):\n",
    "    return sq(cu(n))\n",
    "    \n",
    "print('The sixth of',n,'is',si(n))"
   ]
  },
  {
   "cell_type": "markdown",
   "metadata": {},
   "source": [
    "7\\. Cubes\n",
    "\n",
    "Create a list of the cubes of x for x in *[0, 10]* using:\n",
    "\n",
    "a) a for loop\n",
    "\n",
    "b) a list comprehension"
   ]
  },
  {
   "cell_type": "code",
   "execution_count": 9,
   "metadata": {},
   "outputs": [
    {
     "name": "stdout",
     "output_type": "stream",
     "text": [
      "Cubes using for loop [0, 1, 8, 27, 64, 125, 216, 343, 512, 729, 1000]\n",
      "Cubes using list comprehension [0, 1, 8, 27, 64, 125, 216, 343, 512, 729, 1000]\n"
     ]
    }
   ],
   "source": [
    "l=[]\n",
    "for i in range(11):\n",
    "    l.append(i**3)\n",
    "print('Cubes using for loop',l)\n",
    "\n",
    "l2=[i**3 for i in range(11)]\n",
    "print('Cubes using list comprehension',l2)"
   ]
  },
  {
   "cell_type": "markdown",
   "metadata": {},
   "source": [
    "8\\. Nested list comprehension\n",
    "\n",
    "A Pythagorean triple is an integer solution to the Pythagorean theorem $a^2+b^2=c^2$. The first Pythagorean triple is (3,4,5). Find and put in a tuple all unique Pythagorean triples for the positive integers a, b and c less than 100."
   ]
  },
  {
   "cell_type": "code",
   "execution_count": 10,
   "metadata": {},
   "outputs": [
    {
     "name": "stdout",
     "output_type": "stream",
     "text": [
      "((4, 3, 5), (8, 6, 10), (12, 5, 13), (12, 9, 15), (15, 8, 17), (16, 12, 20), (20, 15, 25), (21, 20, 29), (24, 7, 25), (24, 10, 26), (24, 18, 30), (28, 21, 35), (30, 16, 34), (32, 24, 40), (35, 12, 37), (36, 15, 39), (36, 27, 45), (40, 9, 41), (40, 30, 50), (42, 40, 58), (44, 33, 55), (45, 24, 51), (45, 28, 53), (48, 14, 50), (48, 20, 52), (48, 36, 60), (52, 39, 65), (55, 48, 73), (56, 33, 65), (56, 42, 70), (60, 11, 61), (60, 25, 65), (60, 32, 68), (60, 45, 75), (63, 16, 65), (63, 60, 87), (64, 48, 80), (68, 51, 85), (70, 24, 74), (72, 21, 75), (72, 30, 78), (72, 54, 90), (72, 65, 97), (75, 40, 85), (76, 57, 95), (77, 36, 85), (80, 18, 82), (80, 39, 89), (84, 13, 85), (84, 35, 91))\n"
     ]
    }
   ],
   "source": [
    "import math\n",
    "\n",
    "def pyth():\n",
    "    l=[]\n",
    "    for i in range(100):\n",
    "        for j in range(1,i):\n",
    "            k=math.sqrt((i*i)+(j*j))\n",
    "            if (k==int(k) and k<100): # add pythagorean triples to tuple l for +ve integers less than 100\n",
    "                t=(i,j,int(k))\n",
    "                l.append(t)\n",
    "    t2=tuple(l)\n",
    "    print(t2)\n",
    "pyth()"
   ]
  },
  {
   "cell_type": "markdown",
   "metadata": {},
   "source": [
    "9\\. Normalization\n",
    "\n",
    "Write a function that takes a tuple of numbers and returns it with the entries normalized to one"
   ]
  },
  {
   "cell_type": "code",
   "execution_count": 19,
   "metadata": {},
   "outputs": [
    {
     "name": "stdout",
     "output_type": "stream",
     "text": [
      "Normalised values of tuple [432.983, 843, 23] is [0.5136215895610914, 1.0, 0.027283511269276393]\n"
     ]
    }
   ],
   "source": [
    "t=[432.983,843,23]\n",
    "\n",
    "def nor(t):\n",
    "    l=list(t)\n",
    "    l=[i/max(l) for i in l] #dividing each number by max value in tuple\n",
    "    return l\n",
    "print('Normalised values of tuple',t ,'is', nor(t))"
   ]
  },
  {
   "cell_type": "code",
   "execution_count": null,
   "metadata": {},
   "outputs": [],
   "source": []
  }
 ],
 "metadata": {
  "kernelspec": {
   "display_name": "Python 3 (ipykernel)",
   "language": "python",
   "name": "python3"
  },
  "language_info": {
   "codemirror_mode": {
    "name": "ipython",
    "version": 3
   },
   "file_extension": ".py",
   "mimetype": "text/x-python",
   "name": "python",
   "nbconvert_exporter": "python",
   "pygments_lexer": "ipython3",
   "version": "3.10.0"
  }
 },
 "nbformat": 4,
 "nbformat_minor": 2
}
